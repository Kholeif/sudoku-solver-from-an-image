{
 "cells": [
  {
   "cell_type": "code",
   "execution_count": 1,
   "id": "1872fb2e",
   "metadata": {},
   "outputs": [],
   "source": [
    "import numpy as np"
   ]
  },
  {
   "cell_type": "code",
   "execution_count": 2,
   "id": "995e5b68",
   "metadata": {},
   "outputs": [],
   "source": [
    "def check(sudoku,i,j,k):\n",
    "    for x in range(9):\n",
    "        if (sudoku[x][j] == k) or (sudoku[i][x] == k):\n",
    "            return False\n",
    "        \n",
    "    x = (i//3)*3\n",
    "    y = (j//3)*3\n",
    "    for q in range(x,x+3):\n",
    "        for w in range(y,y+3):\n",
    "            if sudoku[q][w] == k:\n",
    "                return False\n",
    "    return True"
   ]
  },
  {
   "cell_type": "code",
   "execution_count": 3,
   "id": "8b9f6589",
   "metadata": {},
   "outputs": [],
   "source": [
    "def solve(sudoku):\n",
    "    global n\n",
    "    for i in range(9):\n",
    "        for j in range(9):\n",
    "            if sudoku[i][j] == 0:\n",
    "                for k in range(1,10):\n",
    "                    if check(sudoku,i,j,k):\n",
    "                        sudoku[i][j]=k\n",
    "                        solve(sudoku)\n",
    "                        sudoku[i][j]=0\n",
    "                return\n",
    "    print(\"answer\",n)\n",
    "    print(np.matrix(sudoku),\"\\n\")\n",
    "    n=n+1"
   ]
  },
  {
   "cell_type": "code",
   "execution_count": null,
   "id": "ea7fc94f",
   "metadata": {},
   "outputs": [],
   "source": []
  },
  {
   "cell_type": "code",
   "execution_count": null,
   "id": "3603e730",
   "metadata": {},
   "outputs": [],
   "source": []
  },
  {
   "cell_type": "code",
   "execution_count": 4,
   "id": "e36ae353",
   "metadata": {},
   "outputs": [],
   "source": [
    "# EXAMPLE\n",
    "sudoku = [  [0,0,7,9,3,0,0,0,8],\n",
    "            [6,8,0,0,0,5,0,9,0],\n",
    "            [0,0,0,0,0,0,0,0,2],\n",
    "            [0,0,0,4,0,0,0,8,0],\n",
    "            [5,0,0,1,0,6,0,3,0],\n",
    "            [0,6,0,0,0,0,0,0,0],\n",
    "            [0,0,1,0,5,4,0,0,0],\n",
    "            [0,0,9,7,0,0,0,0,1],\n",
    "            [0,0,0,0,0,0,0,7,0]   ]"
   ]
  },
  {
   "cell_type": "code",
   "execution_count": 5,
   "id": "d62ed16b",
   "metadata": {
    "scrolled": true
   },
   "outputs": [
    {
     "name": "stdout",
     "output_type": "stream",
     "text": [
      "answer 1\n",
      "[[4 2 7 9 3 1 5 6 8]\n",
      " [6 8 3 2 4 5 1 9 7]\n",
      " [9 1 5 6 7 8 3 4 2]\n",
      " [1 3 2 4 9 7 6 8 5]\n",
      " [5 9 8 1 2 6 7 3 4]\n",
      " [7 6 4 5 8 3 2 1 9]\n",
      " [8 7 1 3 5 4 9 2 6]\n",
      " [3 4 9 7 6 2 8 5 1]\n",
      " [2 5 6 8 1 9 4 7 3]] \n",
      "\n"
     ]
    }
   ],
   "source": [
    "n=1\n",
    "solve(sudoku)"
   ]
  },
  {
   "cell_type": "code",
   "execution_count": null,
   "id": "d6ee4b9a",
   "metadata": {},
   "outputs": [],
   "source": []
  },
  {
   "cell_type": "code",
   "execution_count": null,
   "id": "392d16a8",
   "metadata": {},
   "outputs": [],
   "source": []
  },
  {
   "cell_type": "code",
   "execution_count": null,
   "id": "54f739e6",
   "metadata": {},
   "outputs": [],
   "source": []
  },
  {
   "cell_type": "code",
   "execution_count": null,
   "id": "9648c07c",
   "metadata": {},
   "outputs": [],
   "source": []
  },
  {
   "cell_type": "code",
   "execution_count": null,
   "id": "98a5c91f",
   "metadata": {},
   "outputs": [],
   "source": []
  },
  {
   "cell_type": "code",
   "execution_count": null,
   "id": "8542d68e",
   "metadata": {},
   "outputs": [],
   "source": []
  },
  {
   "cell_type": "code",
   "execution_count": null,
   "id": "f6857c08",
   "metadata": {},
   "outputs": [],
   "source": []
  },
  {
   "cell_type": "code",
   "execution_count": null,
   "id": "3982caf8",
   "metadata": {},
   "outputs": [],
   "source": []
  },
  {
   "cell_type": "code",
   "execution_count": 6,
   "id": "a5ec06e2",
   "metadata": {},
   "outputs": [],
   "source": [
    "# empty sudoku for edit\n",
    "sudoku_empty = [[0,0,0,0,0,0,0,0,0],\n",
    "                [0,0,0,0,0,0,0,0,0],\n",
    "                [0,0,0,0,0,0,0,0,0],\n",
    "                [0,0,0,0,0,0,0,0,0],\n",
    "                [0,0,0,0,0,0,0,0,0],\n",
    "                [0,0,0,0,0,0,0,0,0],\n",
    "                [0,0,0,0,0,0,0,0,0],\n",
    "                [0,0,0,0,0,0,0,0,0],\n",
    "                [0,0,0,0,0,0,0,0,0]]"
   ]
  }
 ],
 "metadata": {
  "kernelspec": {
   "display_name": "Python 3",
   "language": "python",
   "name": "python3"
  },
  "language_info": {
   "codemirror_mode": {
    "name": "ipython",
    "version": 3
   },
   "file_extension": ".py",
   "mimetype": "text/x-python",
   "name": "python",
   "nbconvert_exporter": "python",
   "pygments_lexer": "ipython3",
   "version": "3.7.9"
  }
 },
 "nbformat": 4,
 "nbformat_minor": 5
}
