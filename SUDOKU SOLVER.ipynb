{
 "cells": [
  {
   "cell_type": "code",
   "execution_count": 1,
   "id": "15906ce0",
   "metadata": {},
   "outputs": [],
   "source": [
    "import cv2\n",
    "import numpy as np\n",
    "import imutils\n",
    "\n",
    "img = cv2.imread('3.jpg')\n",
    "img = imutils.resize(img,width=1000)\n",
    "cv2.imshow(\"img\",img)\n",
    "cv2.waitKey()\n",
    "\n",
    "gray = cv2.cvtColor(img,cv2.COLOR_BGR2GRAY)\n",
    "cv2.imshow(\"gray\",gray)\n",
    "cv2.waitKey()\n",
    "cv2.destroyAllWindows()\n",
    "\n",
    "res=gray"
   ]
  },
  {
   "cell_type": "code",
   "execution_count": 2,
   "id": "2f557488",
   "metadata": {},
   "outputs": [],
   "source": [
    "thresh = cv2.adaptiveThreshold(res,255,0,1,19,2)\n",
    "cv2.imshow(\"thresh\",thresh)\n",
    "cv2.waitKey()\n",
    "contour,hier = cv2.findContours(thresh,cv2.RETR_TREE,cv2.CHAIN_APPROX_SIMPLE)\n",
    "\n",
    "max_area = 0\n",
    "best_cnt = None\n",
    "for cnt in contour:\n",
    "    area = cv2.contourArea(cnt)\n",
    "    if area > 1000:\n",
    "        if area > max_area:\n",
    "            max_area = area\n",
    "            best_cnt = cnt\n",
    "            \n",
    "mask = np.zeros((gray.shape),np.uint8)\n",
    "cv2.drawContours(mask,[best_cnt],0,255,-1)\n",
    "cv2.imshow(\"mask\",mask)\n",
    "cv2.waitKey()\n",
    "cv2.drawContours(mask,[best_cnt],0,0,2)\n",
    "cv2.imshow(\"mask2\",mask)\n",
    "cv2.waitKey()\n",
    "\n",
    "res2 = cv2.bitwise_and(res,mask)\n",
    "cv2.imshow(\"res2\",res2)\n",
    "cv2.waitKey()\n",
    "cv2.destroyAllWindows()"
   ]
  },
  {
   "cell_type": "code",
   "execution_count": 3,
   "id": "618973bc",
   "metadata": {},
   "outputs": [],
   "source": [
    "cv2.imshow(\"res2\",res2)\n",
    "cv2.waitKey()\n",
    "cv2.destroyAllWindows()"
   ]
  },
  {
   "cell_type": "code",
   "execution_count": 4,
   "id": "768fbf02",
   "metadata": {},
   "outputs": [],
   "source": [
    "kernelx = cv2.getStructuringElement(cv2.MORPH_RECT,(2,10))\n",
    "\n",
    "dx = cv2.Sobel(res2,cv2.CV_16S,1,0)\n",
    "dx = cv2.convertScaleAbs(dx)\n",
    "cv2.imshow(\"dx\",dx)\n",
    "cv2.waitKey()\n",
    "\n",
    "close = cv2.morphologyEx(dx,cv2.MORPH_DILATE,kernelx,iterations = 1)\n",
    "cv2.imshow(\"close\",close)\n",
    "cv2.waitKey()\n",
    "\n",
    "contour, hier = cv2.findContours(close,cv2.RETR_EXTERNAL,cv2.CHAIN_APPROX_SIMPLE)\n",
    "for cnt in contour:\n",
    "    x,y,w,h = cv2.boundingRect(cnt)\n",
    "    if h/w > 10:\n",
    "        cv2.drawContours(close,[cnt],0,255,-1)\n",
    "    else:\n",
    "        cv2.drawContours(close,[cnt],0,0,-1)\n",
    "        \n",
    "close = cv2.morphologyEx(close,cv2.MORPH_CLOSE,None,iterations = 2)\n",
    "closex = close.copy()\n",
    "cv2.imshow(\"closex\",closex)\n",
    "cv2.waitKey()\n",
    "cv2.destroyAllWindows()"
   ]
  },
  {
   "cell_type": "code",
   "execution_count": 5,
   "id": "6cfbd53b",
   "metadata": {},
   "outputs": [],
   "source": [
    "kernely = cv2.getStructuringElement(cv2.MORPH_RECT,(10,2))\n",
    "\n",
    "dy = cv2.Sobel(res2,cv2.CV_16S,0,1)\n",
    "dy = cv2.convertScaleAbs(dy)\n",
    "cv2.imshow(\"dy\",dy)\n",
    "cv2.waitKey()\n",
    "\n",
    "close = cv2.morphologyEx(dy,cv2.MORPH_DILATE,kernely)\n",
    "cv2.imshow(\"close\",close)\n",
    "cv2.waitKey()\n",
    "\n",
    "contour, hier = cv2.findContours(close,cv2.RETR_EXTERNAL,cv2.CHAIN_APPROX_SIMPLE)\n",
    "for cnt in contour:\n",
    "    x,y,w,h = cv2.boundingRect(cnt)\n",
    "    if w/h > 10:\n",
    "        cv2.drawContours(close,[cnt],0,255,-1)\n",
    "    else:\n",
    "        cv2.drawContours(close,[cnt],0,0,-1)\n",
    "\n",
    "close = cv2.morphologyEx(close,cv2.MORPH_DILATE,None,iterations = 2)\n",
    "closey = close.copy()\n",
    "cv2.imshow(\"closey\",closey)\n",
    "cv2.waitKey()\n",
    "cv2.destroyAllWindows()"
   ]
  },
  {
   "cell_type": "code",
   "execution_count": 6,
   "id": "fd6c1759",
   "metadata": {},
   "outputs": [],
   "source": [
    "res = cv2.bitwise_and(closex,closey)\n",
    "cv2.imshow(\"res\",res)\n",
    "cv2.waitKey()\n",
    "cv2.destroyAllWindows()"
   ]
  },
  {
   "cell_type": "code",
   "execution_count": 7,
   "id": "3ced0225",
   "metadata": {},
   "outputs": [],
   "source": [
    "contour, hier = cv2.findContours(res,cv2.RETR_LIST,cv2.CHAIN_APPROX_SIMPLE)\n",
    "centroids = []\n",
    "for cnt in contour:\n",
    "    mom = cv2.moments(cnt)\n",
    "    (x,y) = int(mom['m10']/mom['m00']), int(mom['m01']/mom['m00'])\n",
    "    cv2.circle(img,(x,y),4,(0,255,0),-1)\n",
    "    cv2.imshow(\"img\",img)\n",
    "    cv2.waitKey()\n",
    "    centroids.append((x,y))\n",
    "cv2.destroyAllWindows()"
   ]
  },
  {
   "cell_type": "code",
   "execution_count": 8,
   "id": "a21feddc",
   "metadata": {},
   "outputs": [],
   "source": [
    "centroids = np.array(centroids,dtype = int)\n",
    "c = centroids.reshape((100,2))\n",
    "c2 = c[np.argsort(c[:,1])]\n",
    "\n",
    "b = np.vstack([c2[i*10:(i+1)*10][np.argsort(c2[i*10:(i+1)*10,0])] for i in range(10)])\n",
    "bm = b.reshape((10,10,2))"
   ]
  },
  {
   "cell_type": "code",
   "execution_count": 9,
   "id": "64241ed2",
   "metadata": {},
   "outputs": [],
   "source": [
    "def find_k_nearest(model,img):\n",
    "    gray = cv2.cvtColor(img,cv2.COLOR_BGR2GRAY)\n",
    "    ret,thresh = cv2.threshold(gray,100,240,cv2.THRESH_BINARY_INV)\n",
    "    cv2.imshow(\"thresh\",thresh)\n",
    "\n",
    "    contours,hierarchy = cv2.findContours(thresh,cv2.RETR_LIST,cv2.CHAIN_APPROX_SIMPLE)\n",
    "    \n",
    "    best_cnt=None\n",
    "    max_area = 0\n",
    "    for cnt in contours:\n",
    "        area = cv2.contourArea(cnt)\n",
    "        if area > max_area:\n",
    "            max_area = area\n",
    "            best_cnt = cnt\n",
    "\n",
    "    [x,y,w,h] = cv2.boundingRect(best_cnt)\n",
    "\n",
    "    if  h>28:\n",
    "        roi = thresh[y:y+h,x:x+w]\n",
    "        roismall = cv2.resize(roi,(30,30))\n",
    "        cv2.imshow(\"roismall\",roismall)\n",
    "        roismall = roismall.reshape((1,900))\n",
    "        roismall = np.float32(roismall)\n",
    "        retval, results, neigh_resp, dists = model.findNearest(roismall, k = 1)\n",
    "        string = str(int((results[0][0])))\n",
    "        return int((results[0][0]))"
   ]
  },
  {
   "cell_type": "code",
   "execution_count": 10,
   "id": "1f3274ad",
   "metadata": {},
   "outputs": [],
   "source": [
    "model = cv2.ml.KNearest_load(\"lallo.model\")"
   ]
  },
  {
   "cell_type": "code",
   "execution_count": 11,
   "id": "33dd0471",
   "metadata": {},
   "outputs": [],
   "source": [
    "cv2.imshow(\"img\",img)\n",
    "cv2.waitKey()\n",
    "sudoku = []\n",
    "\n",
    "for i in range(90):\n",
    "    if (i+1)%10 == 0:\n",
    "        continue\n",
    "    x = (i+1)//10\n",
    "    y = (i+1)%10 - 1\n",
    "    my_image = img[bm[x][y][1]:bm[x+1][y+1][1],bm[x][y][0]:bm[x+1][y+1][0]]\n",
    "    w , h , _ = my_image.shape\n",
    "    my_image = my_image[w//8:w-w//8,w//8:w-w//8]\n",
    "    find_k_nearest(model,my_image)\n",
    "    number = find_k_nearest(model,my_image)\n",
    "    if number is None:\n",
    "        sudoku.append(0)\n",
    "    else:\n",
    "        sudoku.append(number)\n",
    "    cv2.imshow(\"my_image\",my_image)\n",
    "    cv2.waitKey()\n",
    "cv2.destroyAllWindows()"
   ]
  },
  {
   "cell_type": "code",
   "execution_count": 12,
   "id": "cf294cd4",
   "metadata": {},
   "outputs": [
    {
     "data": {
      "text/plain": [
       "array([[0, 0, 1, 3, 0, 2, 0, 0, 0],\n",
       "       [0, 0, 3, 0, 0, 7, 0, 4, 5],\n",
       "       [0, 0, 7, 0, 0, 0, 0, 0, 9],\n",
       "       [0, 0, 6, 5, 0, 0, 0, 7, 0],\n",
       "       [2, 0, 0, 0, 0, 0, 0, 0, 1],\n",
       "       [0, 9, 0, 0, 0, 1, 4, 0, 0],\n",
       "       [5, 0, 0, 0, 0, 0, 9, 0, 0],\n",
       "       [6, 1, 0, 2, 0, 0, 8, 0, 0],\n",
       "       [0, 0, 0, 9, 0, 8, 5, 0, 0]])"
      ]
     },
     "execution_count": 12,
     "metadata": {},
     "output_type": "execute_result"
    }
   ],
   "source": [
    "sudoku = np.array(sudoku)\n",
    "sudoku = sudoku.reshape(9,9)\n",
    "sudoku"
   ]
  },
  {
   "cell_type": "code",
   "execution_count": 13,
   "id": "68e5890c",
   "metadata": {},
   "outputs": [],
   "source": [
    "def check(sudoku,i,j,k):\n",
    "    for x in range(9):\n",
    "        if (sudoku[x][j] == k) or (sudoku[i][x] == k):\n",
    "            return False\n",
    "        \n",
    "    x = (i//3)*3\n",
    "    y = (j//3)*3\n",
    "    for q in range(x,x+3):\n",
    "        for w in range(y,y+3):\n",
    "            if sudoku[q][w] == k:\n",
    "                return False\n",
    "    return True"
   ]
  },
  {
   "cell_type": "code",
   "execution_count": 14,
   "id": "0f143cbb",
   "metadata": {},
   "outputs": [],
   "source": [
    "def solve(sudoku):\n",
    "    global n\n",
    "    for i in range(9):\n",
    "        for j in range(9):\n",
    "            if sudoku[i][j] == 0:\n",
    "                for k in range(1,10):\n",
    "                    if check(sudoku,i,j,k):\n",
    "                        sudoku[i][j]=k\n",
    "                        solve(sudoku)\n",
    "                        sudoku[i][j]=0\n",
    "                return\n",
    "    print(\"answer\",n)\n",
    "    print(np.matrix(sudoku),\"\\n\")\n",
    "    n=n+1"
   ]
  },
  {
   "cell_type": "code",
   "execution_count": 15,
   "id": "6544dc74",
   "metadata": {},
   "outputs": [
    {
     "name": "stdout",
     "output_type": "stream",
     "text": [
      "answer 1\n",
      "[[4 5 1 3 9 2 7 8 6]\n",
      " [9 2 3 8 6 7 1 4 5]\n",
      " [8 6 7 1 5 4 3 2 9]\n",
      " [1 3 6 5 4 9 2 7 8]\n",
      " [2 4 5 7 8 3 6 9 1]\n",
      " [7 9 8 6 2 1 4 5 3]\n",
      " [5 8 2 4 3 6 9 1 7]\n",
      " [6 1 9 2 7 5 8 3 4]\n",
      " [3 7 4 9 1 8 5 6 2]] \n",
      "\n"
     ]
    }
   ],
   "source": [
    "n=1\n",
    "solve(sudoku)"
   ]
  }
 ],
 "metadata": {
  "kernelspec": {
   "display_name": "Python 3",
   "language": "python",
   "name": "python3"
  },
  "language_info": {
   "codemirror_mode": {
    "name": "ipython",
    "version": 3
   },
   "file_extension": ".py",
   "mimetype": "text/x-python",
   "name": "python",
   "nbconvert_exporter": "python",
   "pygments_lexer": "ipython3",
   "version": "3.7.9"
  }
 },
 "nbformat": 4,
 "nbformat_minor": 5
}
